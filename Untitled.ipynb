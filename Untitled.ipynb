{
 "cells": [
  {
   "cell_type": "code",
   "execution_count": 12,
   "metadata": {},
   "outputs": [],
   "source": [
    "import pandas as pd\n",
    "import numpy as np"
   ]
  },
  {
   "cell_type": "code",
   "execution_count": 13,
   "metadata": {},
   "outputs": [
    {
     "data": {
      "text/html": [
       "<div>\n",
       "<style scoped>\n",
       "    .dataframe tbody tr th:only-of-type {\n",
       "        vertical-align: middle;\n",
       "    }\n",
       "\n",
       "    .dataframe tbody tr th {\n",
       "        vertical-align: top;\n",
       "    }\n",
       "\n",
       "    .dataframe thead th {\n",
       "        text-align: right;\n",
       "    }\n",
       "</style>\n",
       "<table border=\"1\" class=\"dataframe\">\n",
       "  <thead>\n",
       "    <tr style=\"text-align: right;\">\n",
       "      <th></th>\n",
       "      <th>Image</th>\n",
       "      <th>Type</th>\n",
       "      <th>Diagnosis</th>\n",
       "    </tr>\n",
       "  </thead>\n",
       "  <tbody>\n",
       "    <tr>\n",
       "      <th>0</th>\n",
       "      <td>000001</td>\n",
       "      <td>Benign</td>\n",
       "      <td>CYST</td>\n",
       "    </tr>\n",
       "    <tr>\n",
       "      <th>1</th>\n",
       "      <td>000002</td>\n",
       "      <td>Benign</td>\n",
       "      <td>CYST</td>\n",
       "    </tr>\n",
       "    <tr>\n",
       "      <th>2</th>\n",
       "      <td>000003</td>\n",
       "      <td>Benign</td>\n",
       "      <td>CYST</td>\n",
       "    </tr>\n",
       "    <tr>\n",
       "      <th>3</th>\n",
       "      <td>000004</td>\n",
       "      <td>Benign</td>\n",
       "      <td>CYST</td>\n",
       "    </tr>\n",
       "    <tr>\n",
       "      <th>4</th>\n",
       "      <td>000005</td>\n",
       "      <td>Benign</td>\n",
       "      <td>CYST</td>\n",
       "    </tr>\n",
       "  </tbody>\n",
       "</table>\n",
       "</div>"
      ],
      "text/plain": [
       "    Image    Type Diagnosis\n",
       "0  000001  Benign      CYST\n",
       "1  000002  Benign      CYST\n",
       "2  000003  Benign      CYST\n",
       "3  000004  Benign      CYST\n",
       "4  000005  Benign      CYST"
      ]
     },
     "execution_count": 13,
     "metadata": {},
     "output_type": "execute_result"
    }
   ],
   "source": [
    "data = pd.read_excel(\"DatasetB.xlsx\", converters={'Image': lambda x: str(x)})\n",
    "data.head()"
   ]
  },
  {
   "cell_type": "code",
   "execution_count": 14,
   "metadata": {},
   "outputs": [
    {
     "data": {
      "text/plain": [
       "(163, 3)"
      ]
     },
     "execution_count": 14,
     "metadata": {},
     "output_type": "execute_result"
    }
   ],
   "source": [
    "data.shape"
   ]
  },
  {
   "cell_type": "code",
   "execution_count": 15,
   "metadata": {},
   "outputs": [
    {
     "data": {
      "text/plain": [
       "Index(['Image', 'Type', 'Diagnosis'], dtype='object')"
      ]
     },
     "execution_count": 15,
     "metadata": {},
     "output_type": "execute_result"
    }
   ],
   "source": [
    "data.columns"
   ]
  },
  {
   "cell_type": "code",
   "execution_count": 16,
   "metadata": {},
   "outputs": [
    {
     "data": {
      "text/plain": [
       "'000295'"
      ]
     },
     "execution_count": 16,
     "metadata": {},
     "output_type": "execute_result"
    }
   ],
   "source": [
    "data['Image'][147]"
   ]
  },
  {
   "cell_type": "code",
   "execution_count": 17,
   "metadata": {},
   "outputs": [],
   "source": [
    "dat = []\n",
    "for i in range(0, 163):\n",
    "    dat.append(data['Image'][i])"
   ]
  },
  {
   "cell_type": "code",
   "execution_count": 20,
   "metadata": {},
   "outputs": [
    {
     "name": "stdout",
     "output_type": "stream",
     "text": [
      "000001\n",
      "000002\n",
      "000003\n",
      "000004\n",
      "000005\n",
      "000006\n",
      "000007\n",
      "000008\n",
      "000009\n",
      "000010\n",
      "000011\n",
      "000012\n",
      "000013\n",
      "000014\n",
      "000015\n",
      "000016\n",
      "000017\n",
      "000018\n",
      "000019\n",
      "000020\n",
      "000021\n",
      "000022\n",
      "000023\n",
      "000024\n",
      "000025\n",
      "000026\n",
      "000027\n",
      "000028\n",
      "000029\n",
      "000030\n",
      "000031\n",
      "000032\n",
      "000033\n",
      "000034\n",
      "000035\n",
      "000036\n",
      "000037\n",
      "000038\n",
      "000039\n",
      "000040\n",
      "000041\n",
      "000042\n",
      "000043\n",
      "000044\n",
      "000045\n",
      "000046\n",
      "000047\n",
      "000048\n",
      "000049\n",
      "000050\n",
      "000051\n",
      "000052\n",
      "000053\n",
      "000054\n",
      "000055\n",
      "000056\n",
      "000057\n",
      "000058\n",
      "000059\n",
      "000060\n",
      "000061\n",
      "000062\n",
      "000063\n",
      "000064\n",
      "000065\n",
      "000066\n",
      "000067\n",
      "000068\n",
      "000069\n",
      "000070\n",
      "000071\n",
      "000072\n",
      "000073\n",
      "000074\n",
      "000075\n",
      "000076\n",
      "000077\n",
      "000078\n",
      "000079\n",
      "000080\n",
      "000081\n",
      "000082\n",
      "000083\n",
      "000084\n",
      "000085\n",
      "000086\n",
      "000087\n",
      "000088\n",
      "000089\n",
      "000090\n",
      "000091\n",
      "000092\n",
      "000093\n",
      "000094\n",
      "000095\n",
      "000096\n",
      "000097\n",
      "000098\n",
      "000099\n",
      "000100\n",
      "000101\n",
      "000102\n",
      "000103\n",
      "000104\n",
      "000105\n",
      "000106\n",
      "000107\n",
      "000108\n",
      "000109\n",
      "000110\n",
      "000111\n",
      "000112\n",
      "000113\n",
      "000114\n",
      "000115\n",
      "000116\n",
      "000117\n",
      "000118\n",
      "000119\n",
      "000120\n",
      "000121\n",
      "000122\n",
      "000123\n",
      "000124\n",
      "000125\n",
      "000126\n",
      "000127\n",
      "000128\n",
      "000129\n",
      "000130\n",
      "000131\n",
      "000132\n",
      "000133\n",
      "000134\n",
      "000135\n",
      "000136\n",
      "000137\n",
      "000138\n",
      "000139\n",
      "000140\n",
      "000141\n",
      "000142\n",
      "000143\n",
      "000144\n",
      "000145\n",
      "000146\n",
      "000147\n",
      "000295\n",
      "000296\n",
      "000297\n",
      "000298\n",
      "000299\n",
      "000300\n",
      "000301\n",
      "000302\n",
      "000303\n",
      "000304\n",
      "000305\n",
      "000306\n",
      "000307\n",
      "000308\n",
      "000309\n",
      "000310\n"
     ]
    }
   ],
   "source": [
    "for i in range(0, 163):\n",
    "    print(dat[i])"
   ]
  },
  {
   "cell_type": "code",
   "execution_count": 22,
   "metadata": {},
   "outputs": [],
   "source": [
    "import pickle\n",
    "with open('data', 'wb') as fb:\n",
    "    pickle.dump(dat, fb)"
   ]
  },
  {
   "cell_type": "code",
   "execution_count": 23,
   "metadata": {},
   "outputs": [],
   "source": [
    "with open('data', 'rb') as fb:\n",
    "    d = pickle.load(fb)"
   ]
  },
  {
   "cell_type": "code",
   "execution_count": 25,
   "metadata": {},
   "outputs": [
    {
     "name": "stdout",
     "output_type": "stream",
     "text": [
      "000101\n",
      "000102\n",
      "000103\n",
      "000104\n",
      "000105\n",
      "000106\n",
      "000107\n",
      "000108\n",
      "000109\n",
      "000110\n",
      "000111\n",
      "000112\n",
      "000113\n",
      "000114\n",
      "000115\n",
      "000116\n",
      "000117\n",
      "000118\n",
      "000119\n",
      "000120\n",
      "000121\n",
      "000122\n",
      "000123\n",
      "000124\n",
      "000125\n",
      "000126\n",
      "000127\n",
      "000128\n",
      "000129\n",
      "000130\n",
      "000131\n",
      "000132\n",
      "000133\n",
      "000134\n",
      "000135\n",
      "000136\n",
      "000137\n",
      "000138\n",
      "000139\n",
      "000140\n",
      "000141\n",
      "000142\n",
      "000143\n",
      "000144\n",
      "000145\n",
      "000146\n",
      "000147\n",
      "000295\n",
      "000296\n",
      "000297\n",
      "000298\n",
      "000299\n",
      "000300\n",
      "000301\n",
      "000302\n",
      "000303\n",
      "000304\n",
      "000305\n",
      "000306\n",
      "000307\n",
      "000308\n",
      "000309\n",
      "000310\n"
     ]
    }
   ],
   "source": [
    "for i in range(100, 163):\n",
    "    print(d[i])"
   ]
  },
  {
   "cell_type": "code",
   "execution_count": 27,
   "metadata": {},
   "outputs": [
    {
     "data": {
      "text/plain": [
       "163"
      ]
     },
     "execution_count": 27,
     "metadata": {},
     "output_type": "execute_result"
    }
   ],
   "source": [
    "len(d)"
   ]
  },
  {
   "cell_type": "code",
   "execution_count": 28,
   "metadata": {},
   "outputs": [
    {
     "data": {
      "text/plain": [
       "str"
      ]
     },
     "execution_count": 28,
     "metadata": {},
     "output_type": "execute_result"
    }
   ],
   "source": [
    "type(d[0])"
   ]
  },
  {
   "cell_type": "code",
   "execution_count": null,
   "metadata": {},
   "outputs": [],
   "source": []
  }
 ],
 "metadata": {
  "kernelspec": {
   "display_name": "Python 3",
   "language": "python",
   "name": "python3"
  },
  "language_info": {
   "codemirror_mode": {
    "name": "ipython",
    "version": 3
   },
   "file_extension": ".py",
   "mimetype": "text/x-python",
   "name": "python",
   "nbconvert_exporter": "python",
   "pygments_lexer": "ipython3",
   "version": "3.6.8rc1"
  }
 },
 "nbformat": 4,
 "nbformat_minor": 2
}

{
 "cells": [
  {
   "cell_type": "code",
   "execution_count": 10,
   "metadata": {},
   "outputs": [],
   "source": [
    "import numpy as np\n",
    "import cv2 as cv\n",
    "import matplotlib.pyplot as plt\n",
    "import os\n",
    "import time"
   ]
  },
  {
   "cell_type": "code",
   "execution_count": 3,
   "metadata": {},
   "outputs": [],
   "source": [
    "list_img=os.listdir('/home/witcher/Projects/Biomedical Image- Segmentation and Tumour Classification/Output/')"
   ]
  },
  {
   "cell_type": "code",
   "execution_count": 4,
   "metadata": {},
   "outputs": [
    {
     "data": {
      "text/plain": [
       "6520"
      ]
     },
     "execution_count": 4,
     "metadata": {},
     "output_type": "execute_result"
    }
   ],
   "source": [
    "len(list_img)"
   ]
  },
  {
   "cell_type": "code",
   "execution_count": 22,
   "metadata": {},
   "outputs": [
    {
     "name": "stdout",
     "output_type": "stream",
     "text": [
      "Time Taken 275.1669020652771\n"
     ]
    }
   ],
   "source": [
    "now=time.time()\n",
    "for i,image in enumerate(list_img):\n",
    "    im = cv.imread('/home/witcher/Projects/Biomedical Image- Segmentation and Tumour Classification/GT_Output/'+image)\n",
    "    orignal_img=cv.imread('/home/witcher/Projects/Biomedical Image- Segmentation and Tumour Classification/Output/'+image)\n",
    "    im=im.astype(float)/255\n",
    "    orignal_img=orignal_img.astype(float)\n",
    "    foreground = cv.multiply(im,orignal_img)\n",
    "    t=np.ones(im.shape)\n",
    "    background = cv.multiply(1-im,t)\n",
    "    outImage = cv.add(foreground/255, background)\n",
    "    plt.imsave('/home/witcher/Projects/Biomedical Image- Segmentation and Tumour Classification/Classification_data/'+image,outImage)\n",
    "    if i+1%20==0:\n",
    "        print(i+1,'/',len(list_img),'Done')\n",
    "then=time.time()\n",
    "print('Time Taken',then-now)"
   ]
  },
  {
   "cell_type": "code",
   "execution_count": 23,
   "metadata": {},
   "outputs": [],
   "source": [
    "list_class=os.listdir('/home/witcher/Projects/Biomedical Image- Segmentation and Tumour Classification/Classification_data/')"
   ]
  },
  {
   "cell_type": "code",
   "execution_count": 26,
   "metadata": {},
   "outputs": [
    {
     "data": {
      "text/plain": [
       "6520"
      ]
     },
     "execution_count": 26,
     "metadata": {},
     "output_type": "execute_result"
    }
   ],
   "source": [
    "len(list_class)"
   ]
  },
  {
   "cell_type": "code",
   "execution_count": null,
   "metadata": {},
   "outputs": [],
   "source": []
  }
 ],
 "metadata": {
  "kernelspec": {
   "display_name": "Python 3",
   "language": "python",
   "name": "python3"
  },
  "language_info": {
   "codemirror_mode": {
    "name": "ipython",
    "version": 3
   },
   "file_extension": ".py",
   "mimetype": "text/x-python",
   "name": "python",
   "nbconvert_exporter": "python",
   "pygments_lexer": "ipython3",
   "version": "3.6.5"
  }
 },
 "nbformat": 4,
 "nbformat_minor": 2
}

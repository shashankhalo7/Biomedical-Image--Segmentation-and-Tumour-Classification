{
 "cells": [
  {
   "cell_type": "code",
   "execution_count": 44,
   "metadata": {},
   "outputs": [],
   "source": [
    "import pandas as pd\n",
    "import os\n",
    "import shutil"
   ]
  },
  {
   "cell_type": "code",
   "execution_count": 11,
   "metadata": {},
   "outputs": [],
   "source": [
    "df = pd.read_excel('/home/witcher/Projects/Biomedical Image- Segmentation and Tumour Classification/DatasetB.xlsx')"
   ]
  },
  {
   "cell_type": "code",
   "execution_count": 26,
   "metadata": {},
   "outputs": [
    {
     "name": "stdout",
     "output_type": "stream",
     "text": [
      "['CYST' 'FA' 'PAP' 'LN']\n",
      "['IDC' 'DCIS' 'UNK' 'LP' 'ILC']\n"
     ]
    }
   ],
   "source": [
    "df_bgn=df[df['Type']=='Benign']\n",
    "df_mlgn=df[df['Type']=='Malignant']\n",
    "print(df_bgn.Diagnosis.unique())\n",
    "print(df_mlgn.Diagnosis.unique())"
   ]
  },
  {
   "cell_type": "markdown",
   "metadata": {},
   "source": [
    "# Preparing the data for 2 Class classification "
   ]
  },
  {
   "cell_type": "code",
   "execution_count": 45,
   "metadata": {},
   "outputs": [],
   "source": [
    "path='/home/witcher/Projects/Biomedical Image- Segmentation and Tumour Classification/Classification_data/'\n",
    "dest_path='/home/witcher/Projects/Biomedical Image- Segmentation and Tumour Classification/Data_2class/'"
   ]
  },
  {
   "cell_type": "code",
   "execution_count": 48,
   "metadata": {},
   "outputs": [],
   "source": [
    "for i,image in enumerate(os.listdir(path)[:]):\n",
    "    temp=df.loc[df['Image']==int(image[:6])]\n",
    "    label=temp['Type'].values[0]\n",
    "    if not os.path.exists(dest_path+label):\n",
    "        os.mkdir(dest_path+label)\n",
    "    shutil.copy(path+image, dest_path+label+'/'+image) \n",
    "    \n",
    "    \n",
    "    "
   ]
  },
  {
   "cell_type": "markdown",
   "metadata": {},
   "source": [
    "# Preparing the data for 9 Class classification "
   ]
  },
  {
   "cell_type": "code",
   "execution_count": 58,
   "metadata": {},
   "outputs": [],
   "source": [
    "path='/home/witcher/Projects/Biomedical Image- Segmentation and Tumour Classification/Classification_data/'\n",
    "dest_path='/home/witcher/Projects/Biomedical Image- Segmentation and Tumour Classification/Data_9class/'"
   ]
  },
  {
   "cell_type": "code",
   "execution_count": 59,
   "metadata": {},
   "outputs": [],
   "source": [
    "for i,image in enumerate(os.listdir(path)[:]):\n",
    "    temp=df.loc[df['Image']==int(image[:6])]\n",
    "    label=temp['Diagnosis'].values[0]\n",
    "    label_type=temp['Type'].values[0]\n",
    "    if not os.path.exists(dest_path+label_type+'_'+label):\n",
    "        os.mkdir(dest_path+label_type+'_'+label)\n",
    "    shutil.copy(path+image, dest_path+label_type+'_'+label+'/'+image) \n",
    "    \n",
    "    "
   ]
  },
  {
   "cell_type": "code",
   "execution_count": 50,
   "metadata": {},
   "outputs": [],
   "source": []
  },
  {
   "cell_type": "code",
   "execution_count": 51,
   "metadata": {},
   "outputs": [
    {
     "data": {
      "text/plain": [
       "'IDC'"
      ]
     },
     "execution_count": 51,
     "metadata": {},
     "output_type": "execute_result"
    }
   ],
   "source": []
  },
  {
   "cell_type": "code",
   "execution_count": null,
   "metadata": {},
   "outputs": [],
   "source": []
  }
 ],
 "metadata": {
  "kernelspec": {
   "display_name": "Python 3",
   "language": "python",
   "name": "python3"
  },
  "language_info": {
   "codemirror_mode": {
    "name": "ipython",
    "version": 3
   },
   "file_extension": ".py",
   "mimetype": "text/x-python",
   "name": "python",
   "nbconvert_exporter": "python",
   "pygments_lexer": "ipython3",
   "version": "3.6.5"
  }
 },
 "nbformat": 4,
 "nbformat_minor": 2
}
